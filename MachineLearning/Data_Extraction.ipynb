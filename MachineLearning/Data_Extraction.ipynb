{
 "cells": [
  {
   "cell_type": "code",
   "execution_count": null,
   "metadata": {},
   "outputs": [],
   "source": [
    "%pip install certifi\n",
    "%pip install pyarrow"
   ]
  },
  {
   "cell_type": "code",
   "execution_count": 1,
   "metadata": {},
   "outputs": [],
   "source": [
    "import os\n",
    "import pandas as pd\n",
    "import requests\n",
    "from bs4 import BeautifulSoup\n",
    "import certifi"
   ]
  },
  {
   "cell_type": "code",
   "execution_count": 21,
   "metadata": {},
   "outputs": [],
   "source": [
    "header_data=pd.read_parquet('header_data.parquet',\"pyarrow\")\n",
    "urls=pd.read_parquet('urls.parquet',\"pyarrow\")"
   ]
  },
  {
   "cell_type": "code",
   "execution_count": 3,
   "metadata": {},
   "outputs": [
    {
     "data": {
      "text/html": [
       "<div>\n",
       "<style scoped>\n",
       "    .dataframe tbody tr th:only-of-type {\n",
       "        vertical-align: middle;\n",
       "    }\n",
       "\n",
       "    .dataframe tbody tr th {\n",
       "        vertical-align: top;\n",
       "    }\n",
       "\n",
       "    .dataframe thead th {\n",
       "        text-align: right;\n",
       "    }\n",
       "</style>\n",
       "<table border=\"1\" class=\"dataframe\">\n",
       "  <thead>\n",
       "    <tr style=\"text-align: right;\">\n",
       "      <th></th>\n",
       "      <th>url</th>\n",
       "    </tr>\n",
       "  </thead>\n",
       "  <tbody>\n",
       "    <tr>\n",
       "      <th>0</th>\n",
       "      <td>almaleasdancestudio.com</td>\n",
       "    </tr>\n",
       "    <tr>\n",
       "      <th>1</th>\n",
       "      <td>reddeerspecialties.com</td>\n",
       "    </tr>\n",
       "    <tr>\n",
       "      <th>2</th>\n",
       "      <td>nopopaws.com</td>\n",
       "    </tr>\n",
       "    <tr>\n",
       "      <th>3</th>\n",
       "      <td>burlingamedentalarts.com</td>\n",
       "    </tr>\n",
       "    <tr>\n",
       "      <th>4</th>\n",
       "      <td>sachsfamilydental.com</td>\n",
       "    </tr>\n",
       "    <tr>\n",
       "      <th>5</th>\n",
       "      <td>bhgidoc.com</td>\n",
       "    </tr>\n",
       "    <tr>\n",
       "      <th>6</th>\n",
       "      <td>billcollectorcharter.com</td>\n",
       "    </tr>\n",
       "    <tr>\n",
       "      <th>7</th>\n",
       "      <td>imperialtrainingcenter.com</td>\n",
       "    </tr>\n",
       "    <tr>\n",
       "      <th>8</th>\n",
       "      <td>physiocan.com</td>\n",
       "    </tr>\n",
       "    <tr>\n",
       "      <th>9</th>\n",
       "      <td>1stle.com</td>\n",
       "    </tr>\n",
       "  </tbody>\n",
       "</table>\n",
       "</div>"
      ],
      "text/plain": [
       "                          url\n",
       "0     almaleasdancestudio.com\n",
       "1      reddeerspecialties.com\n",
       "2                nopopaws.com\n",
       "3    burlingamedentalarts.com\n",
       "4       sachsfamilydental.com\n",
       "5                 bhgidoc.com\n",
       "6    billcollectorcharter.com\n",
       "7  imperialtrainingcenter.com\n",
       "8               physiocan.com\n",
       "9                   1stle.com"
      ]
     },
     "execution_count": 3,
     "metadata": {},
     "output_type": "execute_result"
    }
   ],
   "source": [
    "#header_data.head()\n",
    "urls.head(10)"
   ]
  },
  {
   "cell_type": "code",
   "execution_count": 22,
   "metadata": {},
   "outputs": [
    {
     "name": "stderr",
     "output_type": "stream",
     "text": [
      "C:\\Users\\Pranav Belmannu\\AppData\\Local\\Temp\\ipykernel_39480\\3084780711.py:1: FutureWarning: The default value of regex will change from True to False in a future version.\n",
      "  urls['company_name']=urls.url.str.replace(\".com\",'')\n"
     ]
    },
    {
     "data": {
      "text/plain": [
       "0         almaleasdancestudio\n",
       "1          reddeerspecialties\n",
       "2                    nopopaws\n",
       "3        burlingamedentalarts\n",
       "4           sachsfamilydental\n",
       "                 ...         \n",
       "25782                hidytidy\n",
       "25783               rjtherapy\n",
       "25784              peaseranch\n",
       "25785       oakcreekranch.net\n",
       "25786     valleywaterdistrict\n",
       "Name: company_name, Length: 25787, dtype: object"
      ]
     },
     "execution_count": 22,
     "metadata": {},
     "output_type": "execute_result"
    }
   ],
   "source": [
    "urls['company_name']=urls.url.str.replace(\".com\",'')\n",
    "urls['company_name']"
   ]
  },
  {
   "cell_type": "code",
   "execution_count": 23,
   "metadata": {},
   "outputs": [
    {
     "name": "stderr",
     "output_type": "stream",
     "text": [
      "C:\\Users\\Pranav Belmannu\\AppData\\Local\\Temp\\ipykernel_39480\\2285090443.py:1: FutureWarning: The default value of regex will change from True to False in a future version.\n",
      "  urls['company_name']=urls.company_name.str.replace(\".net\",'')\n"
     ]
    },
    {
     "data": {
      "text/plain": [
       "0         almaleasdancestudio\n",
       "1          reddeerspecialties\n",
       "2                    nopopaws\n",
       "3        burlingamedentalarts\n",
       "4           sachsfamilydental\n",
       "                 ...         \n",
       "25782                hidytidy\n",
       "25783               rjtherapy\n",
       "25784              peaseranch\n",
       "25785           oakcreekranch\n",
       "25786     valleywaterdistrict\n",
       "Name: company_name, Length: 25787, dtype: object"
      ]
     },
     "execution_count": 23,
     "metadata": {},
     "output_type": "execute_result"
    }
   ],
   "source": [
    "urls['company_name']=urls.company_name.str.replace(\".net\",'')\n",
    "urls['company_name']"
   ]
  },
  {
   "cell_type": "code",
   "execution_count": 37,
   "metadata": {},
   "outputs": [
    {
     "name": "stderr",
     "output_type": "stream",
     "text": [
      "C:\\Users\\Pranav Belmannu\\AppData\\Local\\Temp\\ipykernel_39480\\2140758328.py:1: FutureWarning: The default value of regex will change from True to False in a future version.\n",
      "  urls['company_name']=urls.company_name.str.replace(\".org\",'')\n"
     ]
    },
    {
     "data": {
      "text/plain": [
       "0         almaleasdancestudio\n",
       "1          reddeerspecialties\n",
       "2                    nopopaws\n",
       "3        burlingamedentalarts\n",
       "4           sachsfamilydental\n",
       "                 ...         \n",
       "25782                hidytidy\n",
       "25783               rjtherapy\n",
       "25784              peaseranch\n",
       "25785           oakcreekranch\n",
       "25786     valleywaterdistrict\n",
       "Name: company_name, Length: 25787, dtype: object"
      ]
     },
     "execution_count": 37,
     "metadata": {},
     "output_type": "execute_result"
    }
   ],
   "source": [
    "urls['company_name']=urls.company_name.str.replace(\".org\",'')\n",
    "urls['company_name']"
   ]
  },
  {
   "cell_type": "code",
   "execution_count": 11,
   "metadata": {},
   "outputs": [],
   "source": [
    "import nltk\n",
    "from nltk.corpus import words\n",
    "from nltk.tokenize import word_tokenize\n",
    "from nltk.data import find"
   ]
  },
  {
   "cell_type": "code",
   "execution_count": 12,
   "metadata": {},
   "outputs": [
    {
     "name": "stderr",
     "output_type": "stream",
     "text": [
      "[nltk_data] Downloading package words to C:\\Users\\Pranav\n",
      "[nltk_data]     Belmannu\\AppData\\Roaming\\nltk_data...\n",
      "[nltk_data]   Unzipping corpora\\words.zip.\n"
     ]
    }
   ],
   "source": [
    "try:\n",
    "    find('corpora/words.zip')\n",
    "except:\n",
    "    nltk.download('words')"
   ]
  },
  {
   "cell_type": "code",
   "execution_count": 25,
   "metadata": {},
   "outputs": [],
   "source": [
    "word_list = set(words.words())"
   ]
  },
  {
   "cell_type": "code",
   "execution_count": null,
   "metadata": {},
   "outputs": [],
   "source": [
    "def extract_company_name(soup):\n",
    "    \n",
    "    if soup.find(id,'SITE_FOOTER'):\n",
    "        text = soup.find(id,'SITE_FOOTER').get_text(strip=True)\n",
    "        return text.split('\\n')[0]\n",
    "    \n",
    "    for potential_name in ['company', 'business', 'organization', 'name']:\n",
    "        meta = soup.find('meta', attrs={'name': potential_name})\n",
    "        if meta and meta.get('content'):\n",
    "            return meta.get('content')\n",
    "    \n",
    "    return None"
   ]
  },
  {
   "cell_type": "code",
   "execution_count": 27,
   "metadata": {},
   "outputs": [],
   "source": [
    "def clean_company_name(name):\n",
    "    # Replace underscores or excess spaces if necessary\n",
    "    return ' '.join(name.split())"
   ]
  },
  {
   "cell_type": "code",
   "execution_count": 26,
   "metadata": {},
   "outputs": [],
   "source": [
    "def break_into_words(text, word_list):\n",
    "    start = 0\n",
    "    result = []\n",
    "    for i in range(1, len(text) + 1):\n",
    "        if text[start:i] in word_list:\n",
    "            result.append(text[start:i])\n",
    "            start = i\n",
    "    return ' '.join(result)"
   ]
  },
  {
   "cell_type": "code",
   "execution_count": 17,
   "metadata": {},
   "outputs": [],
   "source": [
    "urls['company_name'] = urls['url'].apply(lambda x: break_into_words(x, word_list))"
   ]
  },
  {
   "cell_type": "code",
   "execution_count": 28,
   "metadata": {},
   "outputs": [],
   "source": [
    "urls['company_name'] = urls['company_name'].apply(clean_company_name)"
   ]
  },
  {
   "cell_type": "code",
   "execution_count": 29,
   "metadata": {},
   "outputs": [
    {
     "data": {
      "text/plain": [
       "0         almaleasdancestudio\n",
       "1          reddeerspecialties\n",
       "2                    nopopaws\n",
       "3        burlingamedentalarts\n",
       "4           sachsfamilydental\n",
       "                 ...         \n",
       "25782                hidytidy\n",
       "25783               rjtherapy\n",
       "25784              peaseranch\n",
       "25785           oakcreekranch\n",
       "25786     valleywaterdistrict\n",
       "Name: company_name, Length: 25787, dtype: object"
      ]
     },
     "execution_count": 29,
     "metadata": {},
     "output_type": "execute_result"
    }
   ],
   "source": [
    "urls['company_name']"
   ]
  },
  {
   "cell_type": "code",
   "execution_count": null,
   "metadata": {},
   "outputs": [],
   "source": [
    "https='https://'\n",
    "http='http://'\n",
    "\n",
    "companies = []  # List to store BeautifulSoup objects\n",
    "company_names = []  # List to store extracted company names\n",
    "urls['request_failed'] = False  # Initialize a column to mark failures\n",
    "\n",
    "for index, row in urls.iterrows():\n",
    "    url = row['url']\n",
    "    full_url = https + url if not url.startswith('http') else url\n",
    "\n",
    "    try:\n",
    "        response = requests.get(full_url, allow_redirects=True, timeout=5)\n",
    "        response.raise_for_status()  # Raise an exception for HTTP errors\n",
    "        print(f\"Success with HTTPS: {full_url}\")\n",
    "        soup = BeautifulSoup(response.content, 'html.parser')\n",
    "        companies.append(soup)  # Store the BeautifulSoup object\n",
    "\n",
    "        # Extract and store the company name\n",
    "        company_name = extract_company_name(soup)\n",
    "        company_names.append(company_name)\n",
    "        \n",
    "    except requests.exceptions.RequestException as e:\n",
    "        print(f\"HTTPS failed for {full_url}: {e}\")\n",
    "\n",
    "        full_url = http + url if not url.startswith('https') else url\n",
    "        try:\n",
    "            response = requests.get(full_url, allow_redirects=True, timeout=5)\n",
    "            response.raise_for_status()  # Raise an exception for HTTP errors\n",
    "            print(f\"Success with HTTP: {full_url}\")\n",
    "            soup = BeautifulSoup(response.content, 'html.parser')\n",
    "            companies.append(soup)  # Store the BeautifulSoup object\n",
    "\n",
    "            # Extract and store the company name\n",
    "            company_name = extract_company_name(soup)\n",
    "            company_names.append(company_name)\n",
    "            \n",
    "        except requests.exceptions.RequestException as e:\n",
    "            print(f\"HTTP also failed for {full_url}: {e}\")\n",
    "            urls.at[index, 'request_failed'] = True  # Mark the failure in the DataFrame\n",
    "            continue  # Skip this URL if both HTTPS and HTTP fail\n",
    "    else:\n",
    "        urls.at[index, 'request_failed'] = False  # Mark success\n",
    "\n",
    "# After the loop, 'companies' will contain the BeautifulSoup objects for each accessible URL\n",
    "# The 'company_names' list will contain extracted company names\n",
    "# The 'urls' DataFrame will have a 'request_failed' column indicating failure"
   ]
  },
  {
   "cell_type": "code",
   "execution_count": 24,
   "metadata": {},
   "outputs": [
    {
     "data": {
      "text/plain": [
       "0                           Lift and Level\n",
       "1           Way of Faith Christian Academy\n",
       "2        Urology Center of Central Florida\n",
       "3                 Housing Trust of America\n",
       "4             Theobald Family Chiropractic\n",
       "                       ...                \n",
       "25782     Missouri Rural Water Association\n",
       "25783            Consumer Choice Marketing\n",
       "25784                 Tennessee Electrical\n",
       "25785      Horsham Water & Sewer Authority\n",
       "25786                     Ohio Gas Company\n",
       "Name: business_name, Length: 25787, dtype: object"
      ]
     },
     "execution_count": 24,
     "metadata": {},
     "output_type": "execute_result"
    }
   ],
   "source": [
    "header_data.business_name"
   ]
  },
  {
   "cell_type": "code",
   "execution_count": 32,
   "metadata": {},
   "outputs": [
    {
     "data": {
      "text/plain": [
       "0                         liftandlevel.com\n",
       "1           wayoffaithchristianacademy.com\n",
       "2        urologycenterofcentralflorida.com\n",
       "3                housingtrustofamerica.com\n",
       "4           theobaldfamilychiropractic.com\n",
       "                       ...                \n",
       "25782    missouriruralwaterassociation.com\n",
       "25783          consumerchoicemarketing.com\n",
       "25784              tennesseeelectrical.com\n",
       "25785      horshamwater&sewerauthority.com\n",
       "25786                   ohiogascompany.com\n",
       "Name: url, Length: 25787, dtype: object"
      ]
     },
     "execution_count": 32,
     "metadata": {},
     "output_type": "execute_result"
    }
   ],
   "source": [
    "header_data.head()\n",
    "header_data['url']=header_data.business_name.str.replace(\" \",\"\")\n",
    "header_data['url']=header_data['url'].str.lower()\n",
    "header_data['url']=header_data['url']+'.com'\n",
    "header_data['url']\n",
    "\n"
   ]
  },
  {
   "cell_type": "code",
   "execution_count": 38,
   "metadata": {},
   "outputs": [
    {
     "data": {
      "text/html": [
       "<div>\n",
       "<style scoped>\n",
       "    .dataframe tbody tr th:only-of-type {\n",
       "        vertical-align: middle;\n",
       "    }\n",
       "\n",
       "    .dataframe tbody tr th {\n",
       "        vertical-align: top;\n",
       "    }\n",
       "\n",
       "    .dataframe thead th {\n",
       "        text-align: right;\n",
       "    }\n",
       "</style>\n",
       "<table border=\"1\" class=\"dataframe\">\n",
       "  <thead>\n",
       "    <tr style=\"text-align: right;\">\n",
       "      <th></th>\n",
       "      <th>url</th>\n",
       "      <th>company_name</th>\n",
       "      <th>NAICS2</th>\n",
       "    </tr>\n",
       "  </thead>\n",
       "  <tbody>\n",
       "    <tr>\n",
       "      <th>0</th>\n",
       "      <td>almaleasdancestudio.com</td>\n",
       "      <td>almaleasdancestudio</td>\n",
       "      <td>Not Found</td>\n",
       "    </tr>\n",
       "    <tr>\n",
       "      <th>1</th>\n",
       "      <td>reddeerspecialties.com</td>\n",
       "      <td>reddeerspecialties</td>\n",
       "      <td>22</td>\n",
       "    </tr>\n",
       "    <tr>\n",
       "      <th>2</th>\n",
       "      <td>nopopaws.com</td>\n",
       "      <td>nopopaws</td>\n",
       "      <td>11</td>\n",
       "    </tr>\n",
       "    <tr>\n",
       "      <th>3</th>\n",
       "      <td>burlingamedentalarts.com</td>\n",
       "      <td>burlingamedentalarts</td>\n",
       "      <td>62</td>\n",
       "    </tr>\n",
       "    <tr>\n",
       "      <th>4</th>\n",
       "      <td>sachsfamilydental.com</td>\n",
       "      <td>sachsfamilydental</td>\n",
       "      <td>62</td>\n",
       "    </tr>\n",
       "    <tr>\n",
       "      <th>5</th>\n",
       "      <td>bhgidoc.com</td>\n",
       "      <td>bhgidoc</td>\n",
       "      <td>Not Found</td>\n",
       "    </tr>\n",
       "    <tr>\n",
       "      <th>6</th>\n",
       "      <td>billcollectorcharter.com</td>\n",
       "      <td>billcollectorcharter</td>\n",
       "      <td>Not Found</td>\n",
       "    </tr>\n",
       "    <tr>\n",
       "      <th>7</th>\n",
       "      <td>imperialtrainingcenter.com</td>\n",
       "      <td>imperialtrainingcenter</td>\n",
       "      <td>61</td>\n",
       "    </tr>\n",
       "    <tr>\n",
       "      <th>8</th>\n",
       "      <td>physiocan.com</td>\n",
       "      <td>physiocan</td>\n",
       "      <td>62</td>\n",
       "    </tr>\n",
       "    <tr>\n",
       "      <th>9</th>\n",
       "      <td>1stle.com</td>\n",
       "      <td>1stle</td>\n",
       "      <td>Not Found</td>\n",
       "    </tr>\n",
       "    <tr>\n",
       "      <th>10</th>\n",
       "      <td>live2u.org</td>\n",
       "      <td>live2u</td>\n",
       "      <td>Not Found</td>\n",
       "    </tr>\n",
       "    <tr>\n",
       "      <th>11</th>\n",
       "      <td>artisan-contracting.com</td>\n",
       "      <td>artisan-contracting</td>\n",
       "      <td>Not Found</td>\n",
       "    </tr>\n",
       "    <tr>\n",
       "      <th>12</th>\n",
       "      <td>mercy.net</td>\n",
       "      <td>mercy</td>\n",
       "      <td>Not Found</td>\n",
       "    </tr>\n",
       "    <tr>\n",
       "      <th>13</th>\n",
       "      <td>longtownruralwater.com</td>\n",
       "      <td>longtownruralwater</td>\n",
       "      <td>Not Found</td>\n",
       "    </tr>\n",
       "    <tr>\n",
       "      <th>14</th>\n",
       "      <td>bakerhillwaterauthority.com</td>\n",
       "      <td>bakerhillwaterauthority</td>\n",
       "      <td>22</td>\n",
       "    </tr>\n",
       "    <tr>\n",
       "      <th>15</th>\n",
       "      <td>mhdancecenter.com</td>\n",
       "      <td>mhdancecenter</td>\n",
       "      <td>Not Found</td>\n",
       "    </tr>\n",
       "    <tr>\n",
       "      <th>16</th>\n",
       "      <td>ssmhealth.com</td>\n",
       "      <td>ssmhealth</td>\n",
       "      <td>62</td>\n",
       "    </tr>\n",
       "    <tr>\n",
       "      <th>17</th>\n",
       "      <td>bodyworxmartialarts.com</td>\n",
       "      <td>bodyworxmartialarts</td>\n",
       "      <td>Not Found</td>\n",
       "    </tr>\n",
       "    <tr>\n",
       "      <th>18</th>\n",
       "      <td>mercy.net</td>\n",
       "      <td>mercy</td>\n",
       "      <td>Not Found</td>\n",
       "    </tr>\n",
       "    <tr>\n",
       "      <th>19</th>\n",
       "      <td>columbusisd.org</td>\n",
       "      <td>columbusisd</td>\n",
       "      <td>Not Found</td>\n",
       "    </tr>\n",
       "    <tr>\n",
       "      <th>20</th>\n",
       "      <td>txdrivingschool.org</td>\n",
       "      <td>txdrivingschool</td>\n",
       "      <td>Not Found</td>\n",
       "    </tr>\n",
       "    <tr>\n",
       "      <th>21</th>\n",
       "      <td>nodawaycountyambulance.org</td>\n",
       "      <td>nodawaycountyambulance</td>\n",
       "      <td>Not Found</td>\n",
       "    </tr>\n",
       "    <tr>\n",
       "      <th>22</th>\n",
       "      <td>munsonhealthcare.org</td>\n",
       "      <td>munsonhealthcare</td>\n",
       "      <td>Not Found</td>\n",
       "    </tr>\n",
       "    <tr>\n",
       "      <th>23</th>\n",
       "      <td>totalfloorshouston.com</td>\n",
       "      <td>totalfloorshouston</td>\n",
       "      <td>Not Found</td>\n",
       "    </tr>\n",
       "  </tbody>\n",
       "</table>\n",
       "</div>"
      ],
      "text/plain": [
       "                            url             company_name     NAICS2\n",
       "0       almaleasdancestudio.com      almaleasdancestudio  Not Found\n",
       "1        reddeerspecialties.com       reddeerspecialties         22\n",
       "2                  nopopaws.com                 nopopaws         11\n",
       "3      burlingamedentalarts.com     burlingamedentalarts         62\n",
       "4         sachsfamilydental.com        sachsfamilydental         62\n",
       "5                   bhgidoc.com                  bhgidoc  Not Found\n",
       "6      billcollectorcharter.com     billcollectorcharter  Not Found\n",
       "7    imperialtrainingcenter.com   imperialtrainingcenter         61\n",
       "8                 physiocan.com                physiocan         62\n",
       "9                     1stle.com                    1stle  Not Found\n",
       "10                   live2u.org                   live2u  Not Found\n",
       "11      artisan-contracting.com      artisan-contracting  Not Found\n",
       "12                    mercy.net                    mercy  Not Found\n",
       "13       longtownruralwater.com       longtownruralwater  Not Found\n",
       "14  bakerhillwaterauthority.com  bakerhillwaterauthority         22\n",
       "15            mhdancecenter.com            mhdancecenter  Not Found\n",
       "16                ssmhealth.com                ssmhealth         62\n",
       "17      bodyworxmartialarts.com      bodyworxmartialarts  Not Found\n",
       "18                    mercy.net                    mercy  Not Found\n",
       "19              columbusisd.org              columbusisd  Not Found\n",
       "20          txdrivingschool.org          txdrivingschool  Not Found\n",
       "21   nodawaycountyambulance.org   nodawaycountyambulance  Not Found\n",
       "22         munsonhealthcare.org         munsonhealthcare  Not Found\n",
       "23       totalfloorshouston.com       totalfloorshouston  Not Found"
      ]
     },
     "execution_count": 38,
     "metadata": {},
     "output_type": "execute_result"
    }
   ],
   "source": [
    "naics_dict = dict(zip(header_data['url'],header_data['NAICS2']))\n",
    "urls['NAICS2'] = urls['url'].apply(lambda x: naics_dict.get(x, 'Not Found'))\n",
    "urls.head(24)"
   ]
  }
 ],
 "metadata": {
  "kernelspec": {
   "display_name": "base",
   "language": "python",
   "name": "python3"
  },
  "language_info": {
   "codemirror_mode": {
    "name": "ipython",
    "version": 3
   },
   "file_extension": ".py",
   "mimetype": "text/x-python",
   "name": "python",
   "nbconvert_exporter": "python",
   "pygments_lexer": "ipython3",
   "version": "3.9.13"
  }
 },
 "nbformat": 4,
 "nbformat_minor": 2
}
